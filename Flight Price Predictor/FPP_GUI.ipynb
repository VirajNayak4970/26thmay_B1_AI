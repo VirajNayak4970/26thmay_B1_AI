{
 "cells": [
  {
   "cell_type": "code",
   "execution_count": 1,
   "metadata": {
    "scrolled": false
   },
   "outputs": [],
   "source": [
    "import numpy as np\n",
    "import pandas as pd\n",
    "import tkinter as tk\n",
    "import warnings \n",
    "warnings.filterwarnings('ignore')\n",
    "\n",
    "cols = ['Airline', 'Date_of_Journey', 'Source', 'Destination', 'Dep_Time',\n",
    "       'Duration', 'Total_Stops', 'Additional_Info']\n",
    "format_ = ['Name', 'In d/mm/yyyy or dd/mm/yyyy', 'Select from Delhi, Banglore, Mumbai, Kolkata, Chennai',\n",
    "           'Select from Delhi, Banglore, Hyderabad, Kolkata, Cochin', 'In 24hr format: hhmm', 'Duration in minutes',\n",
    "           '1 for source to destination else 1 + n', 'Name']\n",
    "\n",
    "app = tk.Tk()\n",
    "app.title('Price Predictor')\n",
    "app.geometry('800x300')\n",
    "app['bg'] = '#49C'\n",
    "\n",
    "n = len(cols)\n",
    "var = [0 for i in range(n)]\n",
    "\n",
    "tk.Label(app, text= 'Format',background='#49C').place(x=350,y=0)\n",
    "for i in range(1,1+n):\n",
    "    tk.Label(app, text= cols[i-1]+(': '),background='#49C').place(x=25,y=25*i)\n",
    "    tk.Label(app, text= format_[i-1],background='#49C').place(x=350,y=25*i)\n",
    "    var[i-1] = tk.Variable(app)\n",
    "    tk.Entry(app, textvariable=var[i-1], width = 25).place(x=175,y=25*i)\n",
    "\n",
    "\n",
    "def find_prediction():\n",
    "    \n",
    "    data = pd.DataFrame(([i.get() for i in var],), columns=cols)\n",
    "    template = pd.read_csv('FPP_Input_Template.csv')\n",
    "    template.loc[0,:] = 0\n",
    "    model = pd.read_pickle('Flight_price_Predictor')\n",
    "    columns = []\n",
    "    \n",
    "    for i in range(n):\n",
    "        try:            \n",
    "            if int(var[i].get()):\n",
    "                template.loc[0,cols[i]]=var[i].get()\n",
    "\n",
    "        except:\n",
    "            template.loc[0,cols[i]+'_'+var[i].get()]=1\n",
    "    \n",
    "    result = model.predict(template)\n",
    "    res = tk.Label(app, text='Predicted Price',background='#49C')\n",
    "    res.place(x=25,y=25*(2+n))         \n",
    "    prediction = tk.Variable(app)\n",
    "    tk.Label(app, textvariable=prediction,background='#49C').place(x=175,y=25*(2+n))\n",
    "    prediction.set(np.round((result[0]),2))\n",
    "    pass\n",
    "\n",
    "tk.Button(app, text='Find Predicted Price',\n",
    "          command= find_prediction).place(x=175, y= 25*(1+n))\n",
    "\n",
    "app.mainloop()"
   ]
  },
  {
   "cell_type": "code",
   "execution_count": null,
   "metadata": {},
   "outputs": [],
   "source": []
  }
 ],
 "metadata": {
  "kernelspec": {
   "display_name": "Python 3",
   "language": "python",
   "name": "python3"
  },
  "language_info": {
   "codemirror_mode": {
    "name": "ipython",
    "version": 3
   },
   "file_extension": ".py",
   "mimetype": "text/x-python",
   "name": "python",
   "nbconvert_exporter": "python",
   "pygments_lexer": "ipython3",
   "version": "3.8.5"
  }
 },
 "nbformat": 4,
 "nbformat_minor": 4
}
